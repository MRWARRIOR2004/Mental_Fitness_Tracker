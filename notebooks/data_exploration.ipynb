{
 "cells": [
  {
   "cell_type": "code",
   "execution_count": 20,
   "id": "4088cd4f-0c40-40e6-a20a-c40c285e6ceb",
   "metadata": {},
   "outputs": [],
   "source": [
    "import pandas as pd\n",
    "from sklearn.preprocessing import MinMaxScaler\n",
    "from sklearn.model_selection import train_test_split"
   ]
  },
  {
   "cell_type": "code",
   "execution_count": 6,
   "id": "53b2ce81-5e6b-4ae4-bd82-518d3edf3edb",
   "metadata": {},
   "outputs": [],
   "source": [
    "prevalence_data = pd.read_csv(r'C:\\Users\\Surem\\Documents\\mental_fitness_tracker\\data\\prevalence-by-mental-and-substance-use-disorder.csv')\n",
    "disease_share_data = pd.read_csv(r'C:\\Users\\Surem\\Documents\\mental_fitness_tracker\\data\\mental-and-substance-use-as-share-of-disease (1).csv')"
   ]
  },
  {
   "cell_type": "code",
   "execution_count": 7,
   "id": "b9ded54c-c6bd-4a29-ae98-b696a48cb63d",
   "metadata": {},
   "outputs": [
    {
     "name": "stdout",
     "output_type": "stream",
     "text": [
      "<class 'pandas.core.frame.DataFrame'>\n",
      "RangeIndex: 6840 entries, 0 to 6839\n",
      "Data columns (total 10 columns):\n",
      " #   Column                                                                            Non-Null Count  Dtype  \n",
      "---  ------                                                                            --------------  -----  \n",
      " 0   Entity                                                                            6840 non-null   object \n",
      " 1   Code                                                                              6150 non-null   object \n",
      " 2   Year                                                                              6840 non-null   int64  \n",
      " 3   Prevalence - Schizophrenia - Sex: Both - Age: Age-standardized (Percent)          6840 non-null   float64\n",
      " 4   Prevalence - Bipolar disorder - Sex: Both - Age: Age-standardized (Percent)       6840 non-null   float64\n",
      " 5   Prevalence - Eating disorders - Sex: Both - Age: Age-standardized (Percent)       6840 non-null   float64\n",
      " 6   Prevalence - Anxiety disorders - Sex: Both - Age: Age-standardized (Percent)      6840 non-null   float64\n",
      " 7   Prevalence - Drug use disorders - Sex: Both - Age: Age-standardized (Percent)     6840 non-null   float64\n",
      " 8   Prevalence - Depressive disorders - Sex: Both - Age: Age-standardized (Percent)   6840 non-null   float64\n",
      " 9   Prevalence - Alcohol use disorders - Sex: Both - Age: Age-standardized (Percent)  6840 non-null   float64\n",
      "dtypes: float64(7), int64(1), object(2)\n",
      "memory usage: 534.5+ KB\n",
      "None\n"
     ]
    }
   ],
   "source": [
    "print(prevalence_data.info())"
   ]
  },
  {
   "cell_type": "code",
   "execution_count": 8,
   "id": "cf03833d-a42d-4ddb-a5a6-8027d97ff3e1",
   "metadata": {},
   "outputs": [
    {
     "name": "stdout",
     "output_type": "stream",
     "text": [
      "        Entity Code  Year  \\\n",
      "0  Afghanistan  AFG  1990   \n",
      "1  Afghanistan  AFG  1991   \n",
      "2  Afghanistan  AFG  1992   \n",
      "3  Afghanistan  AFG  1993   \n",
      "4  Afghanistan  AFG  1994   \n",
      "\n",
      "   Prevalence - Schizophrenia - Sex: Both - Age: Age-standardized (Percent)  \\\n",
      "0                                           0.228979                          \n",
      "1                                           0.228120                          \n",
      "2                                           0.227328                          \n",
      "3                                           0.226468                          \n",
      "4                                           0.225567                          \n",
      "\n",
      "   Prevalence - Bipolar disorder - Sex: Both - Age: Age-standardized (Percent)  \\\n",
      "0                                           0.721207                             \n",
      "1                                           0.719952                             \n",
      "2                                           0.718418                             \n",
      "3                                           0.717452                             \n",
      "4                                           0.717012                             \n",
      "\n",
      "   Prevalence - Eating disorders - Sex: Both - Age: Age-standardized (Percent)  \\\n",
      "0                                           0.131001                             \n",
      "1                                           0.126395                             \n",
      "2                                           0.121832                             \n",
      "3                                           0.117942                             \n",
      "4                                           0.114547                             \n",
      "\n",
      "   Prevalence - Anxiety disorders - Sex: Both - Age: Age-standardized (Percent)  \\\n",
      "0                                           4.835127                              \n",
      "1                                           4.821765                              \n",
      "2                                           4.801434                              \n",
      "3                                           4.789363                              \n",
      "4                                           4.784923                              \n",
      "\n",
      "   Prevalence - Drug use disorders - Sex: Both - Age: Age-standardized (Percent)  \\\n",
      "0                                           0.454202                               \n",
      "1                                           0.447112                               \n",
      "2                                           0.441190                               \n",
      "3                                           0.435581                               \n",
      "4                                           0.431822                               \n",
      "\n",
      "   Prevalence - Depressive disorders - Sex: Both - Age: Age-standardized (Percent)  \\\n",
      "0                                           5.125291                                 \n",
      "1                                           5.116306                                 \n",
      "2                                           5.106558                                 \n",
      "3                                           5.100328                                 \n",
      "4                                           5.099424                                 \n",
      "\n",
      "   Prevalence - Alcohol use disorders - Sex: Both - Age: Age-standardized (Percent)  \n",
      "0                                           0.444036                                 \n",
      "1                                           0.444250                                 \n",
      "2                                           0.445501                                 \n",
      "3                                           0.445958                                 \n",
      "4                                           0.445779                                 \n"
     ]
    }
   ],
   "source": [
    "print(prevalence_data.head())"
   ]
  },
  {
   "cell_type": "code",
   "execution_count": 9,
   "id": "ba016cb4-e5c1-435c-917e-904ef7470c59",
   "metadata": {},
   "outputs": [
    {
     "name": "stdout",
     "output_type": "stream",
     "text": [
      "<class 'pandas.core.frame.DataFrame'>\n",
      "RangeIndex: 6840 entries, 0 to 6839\n",
      "Data columns (total 4 columns):\n",
      " #   Column                                                                                           Non-Null Count  Dtype  \n",
      "---  ------                                                                                           --------------  -----  \n",
      " 0   Entity                                                                                           6840 non-null   object \n",
      " 1   Code                                                                                             6150 non-null   object \n",
      " 2   Year                                                                                             6840 non-null   int64  \n",
      " 3   DALYs (Disability-Adjusted Life Years) - Mental disorders - Sex: Both - Age: All Ages (Percent)  6840 non-null   float64\n",
      "dtypes: float64(1), int64(1), object(2)\n",
      "memory usage: 213.9+ KB\n",
      "None\n"
     ]
    }
   ],
   "source": [
    "print(disease_share_data.info())"
   ]
  },
  {
   "cell_type": "code",
   "execution_count": 10,
   "id": "29fb94ef-16a9-447c-bbe2-1acc1f8d4831",
   "metadata": {},
   "outputs": [
    {
     "name": "stdout",
     "output_type": "stream",
     "text": [
      "        Entity Code  Year  \\\n",
      "0  Afghanistan  AFG  1990   \n",
      "1  Afghanistan  AFG  1991   \n",
      "2  Afghanistan  AFG  1992   \n",
      "3  Afghanistan  AFG  1993   \n",
      "4  Afghanistan  AFG  1994   \n",
      "\n",
      "   DALYs (Disability-Adjusted Life Years) - Mental disorders - Sex: Both - Age: All Ages (Percent)  \n",
      "0                                           1.696670                                                \n",
      "1                                           1.734281                                                \n",
      "2                                           1.791189                                                \n",
      "3                                           1.776779                                                \n",
      "4                                           1.712986                                                \n"
     ]
    }
   ],
   "source": [
    "print(disease_share_data.head())"
   ]
  },
  {
   "cell_type": "code",
   "execution_count": 11,
   "id": "067907da-f780-486c-9452-de545fdfc355",
   "metadata": {},
   "outputs": [
    {
     "name": "stdout",
     "output_type": "stream",
     "text": [
      "Entity                                                                                0\n",
      "Code                                                                                690\n",
      "Year                                                                                  0\n",
      "Prevalence - Schizophrenia - Sex: Both - Age: Age-standardized (Percent)              0\n",
      "Prevalence - Bipolar disorder - Sex: Both - Age: Age-standardized (Percent)           0\n",
      "Prevalence - Eating disorders - Sex: Both - Age: Age-standardized (Percent)           0\n",
      "Prevalence - Anxiety disorders - Sex: Both - Age: Age-standardized (Percent)          0\n",
      "Prevalence - Drug use disorders - Sex: Both - Age: Age-standardized (Percent)         0\n",
      "Prevalence - Depressive disorders - Sex: Both - Age: Age-standardized (Percent)       0\n",
      "Prevalence - Alcohol use disorders - Sex: Both - Age: Age-standardized (Percent)      0\n",
      "dtype: int64\n"
     ]
    }
   ],
   "source": [
    "print(prevalence_data.isnull().sum())"
   ]
  },
  {
   "cell_type": "code",
   "execution_count": 12,
   "id": "f04f665a-2457-48ff-9c66-f7b13f567d60",
   "metadata": {},
   "outputs": [
    {
     "name": "stdout",
     "output_type": "stream",
     "text": [
      "Entity                                                                                               0\n",
      "Code                                                                                               690\n",
      "Year                                                                                                 0\n",
      "DALYs (Disability-Adjusted Life Years) - Mental disorders - Sex: Both - Age: All Ages (Percent)      0\n",
      "dtype: int64\n"
     ]
    }
   ],
   "source": [
    "print(disease_share_data.isnull().sum())\n"
   ]
  },
  {
   "cell_type": "code",
   "execution_count": 13,
   "id": "23b0e3ae-bae0-4408-b84b-67de30329559",
   "metadata": {},
   "outputs": [
    {
     "name": "stdout",
     "output_type": "stream",
     "text": [
      "['Afghanistan' 'African Region (WHO)' 'Albania' 'Algeria' 'American Samoa'\n",
      " 'Andorra' 'Angola' 'Antigua and Barbuda' 'Argentina' 'Armenia'\n",
      " 'Australia' 'Austria' 'Azerbaijan' 'Bahamas' 'Bahrain' 'Bangladesh'\n",
      " 'Barbados' 'Belarus' 'Belgium' 'Belize' 'Benin' 'Bermuda' 'Bhutan'\n",
      " 'Bolivia' 'Bosnia and Herzegovina' 'Botswana' 'Brazil' 'Brunei'\n",
      " 'Bulgaria' 'Burkina Faso' 'Burundi' 'Cambodia' 'Cameroon' 'Canada'\n",
      " 'Cape Verde' 'Central African Republic' 'Chad' 'Chile' 'China' 'Colombia'\n",
      " 'Comoros' 'Congo' 'Cook Islands' 'Costa Rica' \"Cote d'Ivoire\" 'Croatia'\n",
      " 'Cuba' 'Cyprus' 'Czechia' 'Democratic Republic of Congo' 'Denmark'\n",
      " 'Djibouti' 'Dominica' 'Dominican Republic' 'East Asia & Pacific (WB)'\n",
      " 'Eastern Mediterranean Region (WHO)' 'Ecuador' 'Egypt' 'El Salvador'\n",
      " 'England' 'Equatorial Guinea' 'Eritrea' 'Estonia' 'Eswatini' 'Ethiopia'\n",
      " 'Europe & Central Asia (WB)' 'European Region (WHO)' 'Fiji' 'Finland'\n",
      " 'France' 'G20' 'Gabon' 'Gambia' 'Georgia' 'Germany' 'Ghana' 'Greece'\n",
      " 'Greenland' 'Grenada' 'Guam' 'Guatemala' 'Guinea' 'Guinea-Bissau'\n",
      " 'Guyana' 'Haiti' 'Honduras' 'Hungary' 'Iceland' 'India' 'Indonesia'\n",
      " 'Iran' 'Iraq' 'Ireland' 'Israel' 'Italy' 'Jamaica' 'Japan' 'Jordan'\n",
      " 'Kazakhstan' 'Kenya' 'Kiribati' 'Kuwait' 'Kyrgyzstan' 'Laos'\n",
      " 'Latin America & Caribbean (WB)' 'Latvia' 'Lebanon' 'Lesotho' 'Liberia'\n",
      " 'Libya' 'Lithuania' 'Luxembourg' 'Madagascar' 'Malawi' 'Malaysia'\n",
      " 'Maldives' 'Mali' 'Malta' 'Marshall Islands' 'Mauritania' 'Mauritius'\n",
      " 'Mexico' 'Micronesia (country)' 'Middle East & North Africa (WB)'\n",
      " 'Moldova' 'Monaco' 'Mongolia' 'Montenegro' 'Morocco' 'Mozambique'\n",
      " 'Myanmar' 'Namibia' 'Nauru' 'Nepal' 'Netherlands' 'New Zealand'\n",
      " 'Nicaragua' 'Niger' 'Nigeria' 'Niue' 'North America (WB)' 'North Korea'\n",
      " 'North Macedonia' 'Northern Ireland' 'Northern Mariana Islands' 'Norway'\n",
      " 'OECD Countries' 'Oman' 'Pakistan' 'Palau' 'Palestine' 'Panama'\n",
      " 'Papua New Guinea' 'Paraguay' 'Peru' 'Philippines' 'Poland' 'Portugal'\n",
      " 'Puerto Rico' 'Qatar' 'Region of the Americas (WHO)' 'Romania' 'Russia'\n",
      " 'Rwanda' 'Saint Kitts and Nevis' 'Saint Lucia'\n",
      " 'Saint Vincent and the Grenadines' 'Samoa' 'San Marino'\n",
      " 'Sao Tome and Principe' 'Saudi Arabia' 'Scotland' 'Senegal' 'Serbia'\n",
      " 'Seychelles' 'Sierra Leone' 'Singapore' 'Slovakia' 'Slovenia'\n",
      " 'Solomon Islands' 'Somalia' 'South Africa' 'South Asia (WB)'\n",
      " 'South Korea' 'South Sudan' 'South-East Asia Region (WHO)' 'Spain'\n",
      " 'Sri Lanka' 'Sub-Saharan Africa (WB)' 'Sudan' 'Suriname' 'Sweden'\n",
      " 'Switzerland' 'Syria' 'Taiwan' 'Tajikistan' 'Tanzania' 'Thailand' 'Timor'\n",
      " 'Togo' 'Tokelau' 'Tonga' 'Trinidad and Tobago' 'Tunisia' 'Turkey'\n",
      " 'Turkmenistan' 'Tuvalu' 'Uganda' 'Ukraine' 'United Arab Emirates'\n",
      " 'United Kingdom' 'United States' 'United States Virgin Islands' 'Uruguay'\n",
      " 'Uzbekistan' 'Vanuatu' 'Venezuela' 'Vietnam' 'Wales'\n",
      " 'Western Pacific Region (WHO)' 'World' 'World Bank High Income'\n",
      " 'World Bank Low Income' 'World Bank Lower Middle Income'\n",
      " 'World Bank Upper Middle Income' 'Yemen' 'Zambia' 'Zimbabwe']\n"
     ]
    }
   ],
   "source": [
    "print(prevalence_data['Entity'].unique())"
   ]
  },
  {
   "cell_type": "code",
   "execution_count": 14,
   "id": "80d47bd1-e7df-40ed-89cd-b3b4af0fa6dd",
   "metadata": {},
   "outputs": [
    {
     "name": "stdout",
     "output_type": "stream",
     "text": [
      "[1990 1991 1992 1993 1994 1995 1996 1997 1998 1999 2000 2001 2002 2003\n",
      " 2004 2005 2006 2007 2008 2009 2010 2011 2012 2013 2014 2015 2016 2017\n",
      " 2018 2019]\n"
     ]
    }
   ],
   "source": [
    "print(disease_share_data['Year'].unique())"
   ]
  },
  {
   "cell_type": "code",
   "execution_count": 15,
   "id": "cb5e6216-83ad-4052-9b05-c04446437868",
   "metadata": {},
   "outputs": [
    {
     "name": "stdout",
     "output_type": "stream",
     "text": [
      "              Year  \\\n",
      "count  6840.000000   \n",
      "mean   2004.500000   \n",
      "std       8.656074   \n",
      "min    1990.000000   \n",
      "25%    1997.000000   \n",
      "50%    2004.500000   \n",
      "75%    2012.000000   \n",
      "max    2019.000000   \n",
      "\n",
      "       Prevalence - Schizophrenia - Sex: Both - Age: Age-standardized (Percent)  \\\n",
      "count                                        6840.000000                          \n",
      "mean                                            0.281167                          \n",
      "std                                             0.047561                          \n",
      "min                                             0.191621                          \n",
      "25%                                             0.255468                          \n",
      "50%                                             0.287456                          \n",
      "75%                                             0.304760                          \n",
      "max                                             0.506018                          \n",
      "\n",
      "       Prevalence - Bipolar disorder - Sex: Both - Age: Age-standardized (Percent)  \\\n",
      "count                                        6840.000000                             \n",
      "mean                                            0.673891                             \n",
      "std                                             0.258594                             \n",
      "min                                             0.189344                             \n",
      "25%                                             0.539791                             \n",
      "50%                                             0.591893                             \n",
      "75%                                             0.897248                             \n",
      "max                                             1.676204                             \n",
      "\n",
      "       Prevalence - Eating disorders - Sex: Both - Age: Age-standardized (Percent)  \\\n",
      "count                                        6840.000000                             \n",
      "mean                                            0.211062                             \n",
      "std                                             0.152559                             \n",
      "min                                             0.045425                             \n",
      "25%                                             0.099857                             \n",
      "50%                                             0.154143                             \n",
      "75%                                             0.276891                             \n",
      "max                                             1.136541                             \n",
      "\n",
      "       Prevalence - Anxiety disorders - Sex: Both - Age: Age-standardized (Percent)  \\\n",
      "count                                        6840.000000                              \n",
      "mean                                            4.327525                              \n",
      "std                                             1.177961                              \n",
      "min                                             1.974823                              \n",
      "25%                                             3.567064                              \n",
      "50%                                             4.094443                              \n",
      "75%                                             4.797286                              \n",
      "max                                             9.015948                              \n",
      "\n",
      "       Prevalence - Drug use disorders - Sex: Both - Age: Age-standardized (Percent)  \\\n",
      "count                                        6840.000000                               \n",
      "mean                                            0.746708                               \n",
      "std                                             0.463026                               \n",
      "min                                             0.225471                               \n",
      "25%                                             0.423502                               \n",
      "50%                                             0.646050                               \n",
      "75%                                             0.890013                               \n",
      "max                                             3.699504                               \n",
      "\n",
      "       Prevalence - Depressive disorders - Sex: Both - Age: Age-standardized (Percent)  \\\n",
      "count                                        6840.000000                                 \n",
      "mean                                            3.950449                                 \n",
      "std                                             0.921021                                 \n",
      "min                                             1.640902                                 \n",
      "25%                                             3.258977                                 \n",
      "50%                                             3.904117                                 \n",
      "75%                                             4.550505                                 \n",
      "max                                             7.688213                                 \n",
      "\n",
      "       Prevalence - Alcohol use disorders - Sex: Both - Age: Age-standardized (Percent)  \n",
      "count                                        6840.000000                                 \n",
      "mean                                            1.578807                                 \n",
      "std                                             0.934655                                 \n",
      "min                                             0.319900                                 \n",
      "25%                                             0.732826                                 \n",
      "50%                                             1.460045                                 \n",
      "75%                                             2.261262                                 \n",
      "max                                             4.698694                                 \n"
     ]
    }
   ],
   "source": [
    "print(prevalence_data.describe())"
   ]
  },
  {
   "cell_type": "code",
   "execution_count": 16,
   "id": "cddeebd6-c305-4497-a046-a891c7434af8",
   "metadata": {},
   "outputs": [
    {
     "name": "stdout",
     "output_type": "stream",
     "text": [
      "              Year  \\\n",
      "count  6840.000000   \n",
      "mean   2004.500000   \n",
      "std       8.656074   \n",
      "min    1990.000000   \n",
      "25%    1997.000000   \n",
      "50%    2004.500000   \n",
      "75%    2012.000000   \n",
      "max    2019.000000   \n",
      "\n",
      "       DALYs (Disability-Adjusted Life Years) - Mental disorders - Sex: Both - Age: All Ages (Percent)  \n",
      "count                                        6840.000000                                                \n",
      "mean                                            4.818062                                                \n",
      "std                                             2.294029                                                \n",
      "min                                             0.215647                                                \n",
      "25%                                             3.006507                                                \n",
      "50%                                             4.679177                                                \n",
      "75%                                             6.387488                                                \n",
      "max                                            13.761517                                                \n"
     ]
    }
   ],
   "source": [
    "print(disease_share_data.describe())"
   ]
  },
  {
   "cell_type": "code",
   "execution_count": 19,
   "id": "3ae31b08-0dab-4072-92e1-64b76e628bdf",
   "metadata": {},
   "outputs": [],
   "source": [
    "prevalence_data.drop(columns=['Code'], inplace=True)"
   ]
  },
  {
   "cell_type": "code",
   "execution_count": 22,
   "id": "2b7e85f0-1030-4d0c-a210-fd9c24635909",
   "metadata": {},
   "outputs": [],
   "source": [
    "scaler = MinMaxScaler()\n",
    "\n",
    "scaled_features = scaler.fit_transform(prevalence_data.iloc[:, 2:])\n",
    "prevalence_data.iloc[:, 2:] = scaled_features\n"
   ]
  },
  {
   "cell_type": "code",
   "execution_count": 23,
   "id": "ecc2ce08-bc68-4793-8c32-73aafb105d7e",
   "metadata": {},
   "outputs": [],
   "source": [
    "merged_data = pd.merge(prevalence_data, disease_share_data, on=['Entity', 'Year'], how='inner')"
   ]
  },
  {
   "cell_type": "code",
   "execution_count": 24,
   "id": "450d8bb4-617b-4c13-b4fc-e3421e5ebd7c",
   "metadata": {},
   "outputs": [],
   "source": [
    "merged_data['Overall_Prevalence'] = merged_data[\n",
    "    ['Prevalence - Schizophrenia - Sex: Both - Age: Age-standardized (Percent)',\n",
    "     'Prevalence - Bipolar disorder - Sex: Both - Age: Age-standardized (Percent)',\n",
    "     'Prevalence - Depressive disorders - Sex: Both - Age: Age-standardized (Percent)']\n",
    "].mean(axis=1)\n"
   ]
  },
  {
   "cell_type": "code",
   "execution_count": 25,
   "id": "e5ace431-1005-4400-b76b-694d5612fb41",
   "metadata": {},
   "outputs": [],
   "source": [
    "X = merged_data.drop(columns=['Entity', 'Year', 'Overall_Prevalence'])\n",
    "y = merged_data['Overall_Prevalence']\n",
    "\n",
    "X_train, X_test, y_train, y_test = train_test_split(X, y, test_size=0.2, random_state=42)\n"
   ]
  },
  {
   "cell_type": "code",
   "execution_count": 26,
   "id": "36c30fd1-58ea-46a1-81e5-69e9e5c24603",
   "metadata": {},
   "outputs": [],
   "source": [
    "merged_data.to_csv('C:/Users/Surem/Documents/mental_fitness_tracker/data/processed_mental_fitness_data.csv', index=False)"
   ]
  },
  {
   "cell_type": "code",
   "execution_count": null,
   "id": "1b48ada8-0ae6-45f4-b377-1eb4c661180f",
   "metadata": {},
   "outputs": [],
   "source": []
  },
  {
   "cell_type": "code",
   "execution_count": null,
   "id": "34e6ce60-9c1c-4d6c-b640-ac0da2ed9aac",
   "metadata": {},
   "outputs": [],
   "source": []
  },
  {
   "cell_type": "code",
   "execution_count": null,
   "id": "c0bb1264-6d72-42e9-83a6-233bd0dd5c58",
   "metadata": {},
   "outputs": [],
   "source": []
  }
 ],
 "metadata": {
  "kernelspec": {
   "display_name": "Python 3 (ipykernel)",
   "language": "python",
   "name": "python3"
  },
  "language_info": {
   "codemirror_mode": {
    "name": "ipython",
    "version": 3
   },
   "file_extension": ".py",
   "mimetype": "text/x-python",
   "name": "python",
   "nbconvert_exporter": "python",
   "pygments_lexer": "ipython3",
   "version": "3.12.7"
  }
 },
 "nbformat": 4,
 "nbformat_minor": 5
}
